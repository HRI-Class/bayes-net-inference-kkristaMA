{
 "cells": [
  {
   "cell_type": "markdown",
   "id": "a6eab71c-00de-41f5-abea-10857fd62ab1",
   "metadata": {
    "deletable": false,
    "editable": false,
    "nbgrader": {
     "cell_type": "markdown",
     "checksum": "cbb442e4fd138283742f58db79c60f81",
     "grade": false,
     "grade_id": "cell-9ef14c54e965c52f",
     "locked": true,
     "schema_version": 3,
     "solution": false,
     "task": false
    }
   },
   "source": [
    "# Binary Bayes Net Inference\n",
    "\n",
    "This is a quick notebook exercise to exemplify Bayes Net (BN) inference. \n",
    "\n",
    "Consider the following BN:  \n",
    "\n",
    "![Imaginary SuperBowl Bayes Net Diagram](BN-NFL.png \"Imaginary SuperBowl Bayes Net Diagram\")\n"
   ]
  },
  {
   "cell_type": "markdown",
   "id": "be4b46ea-0dda-42a4-b843-6e0a16c9fff9",
   "metadata": {
    "deletable": false,
    "editable": false,
    "nbgrader": {
     "cell_type": "markdown",
     "checksum": "200ab4c361ba63b26f34b7ffdaa852cb",
     "grade": false,
     "grade_id": "cell-f3b6fc3b134cd864",
     "locked": true,
     "schema_version": 3,
     "solution": false,
     "task": false
    }
   },
   "source": [
    "----\n",
    "We can use the `BayesianNetwork` module from [pgmpy](https://pgmpy.org/) to construct this network:"
   ]
  },
  {
   "cell_type": "code",
   "execution_count": 6,
   "id": "1e439347-e929-4102-a351-e7cc7dc71c43",
   "metadata": {
    "deletable": false,
    "editable": false,
    "nbgrader": {
     "cell_type": "code",
     "checksum": "761f46b1812e406736a740632ecee20e",
     "grade": false,
     "grade_id": "cell-dacd4367ba006678",
     "locked": true,
     "schema_version": 3,
     "solution": false,
     "task": false
    }
   },
   "outputs": [
    {
     "name": "stderr",
     "output_type": "stream",
     "text": [
      "\n",
      "A module that was compiled using NumPy 1.x cannot be run in\n",
      "NumPy 2.2.2 as it may crash. To support both 1.x and 2.x\n",
      "versions of NumPy, modules must be compiled with NumPy 2.0.\n",
      "Some module may need to rebuild instead e.g. with 'pybind11>=2.12'.\n",
      "\n",
      "If you are a user of the module, the easiest solution will be to\n",
      "downgrade to 'numpy<2' or try to upgrade the affected module.\n",
      "We expect that some modules will need time to support NumPy 2.\n",
      "\n",
      "Traceback (most recent call last):  File \"<frozen runpy>\", line 198, in _run_module_as_main\n",
      "  File \"<frozen runpy>\", line 88, in _run_code\n",
      "  File \"/Users/mmm/Library/Python/3.12/lib/python/site-packages/ipykernel_launcher.py\", line 18, in <module>\n",
      "    app.launch_new_instance()\n",
      "  File \"/Users/mmm/Library/Python/3.12/lib/python/site-packages/traitlets/config/application.py\", line 1075, in launch_instance\n",
      "    app.start()\n",
      "  File \"/Users/mmm/Library/Python/3.12/lib/python/site-packages/ipykernel/kernelapp.py\", line 739, in start\n",
      "    self.io_loop.start()\n",
      "  File \"/Users/mmm/Library/Python/3.12/lib/python/site-packages/tornado/platform/asyncio.py\", line 205, in start\n",
      "    self.asyncio_loop.run_forever()\n",
      "  File \"/Library/Frameworks/Python.framework/Versions/3.12/lib/python3.12/asyncio/base_events.py\", line 641, in run_forever\n",
      "    self._run_once()\n",
      "  File \"/Library/Frameworks/Python.framework/Versions/3.12/lib/python3.12/asyncio/base_events.py\", line 1986, in _run_once\n",
      "    handle._run()\n",
      "  File \"/Library/Frameworks/Python.framework/Versions/3.12/lib/python3.12/asyncio/events.py\", line 88, in _run\n",
      "    self._context.run(self._callback, *self._args)\n",
      "  File \"/Users/mmm/Library/Python/3.12/lib/python/site-packages/ipykernel/kernelbase.py\", line 545, in dispatch_queue\n",
      "    await self.process_one()\n",
      "  File \"/Users/mmm/Library/Python/3.12/lib/python/site-packages/ipykernel/kernelbase.py\", line 534, in process_one\n",
      "    await dispatch(*args)\n",
      "  File \"/Users/mmm/Library/Python/3.12/lib/python/site-packages/ipykernel/kernelbase.py\", line 437, in dispatch_shell\n",
      "    await result\n",
      "  File \"/Users/mmm/Library/Python/3.12/lib/python/site-packages/ipykernel/ipkernel.py\", line 362, in execute_request\n",
      "    await super().execute_request(stream, ident, parent)\n",
      "  File \"/Users/mmm/Library/Python/3.12/lib/python/site-packages/ipykernel/kernelbase.py\", line 778, in execute_request\n",
      "    reply_content = await reply_content\n",
      "  File \"/Users/mmm/Library/Python/3.12/lib/python/site-packages/ipykernel/ipkernel.py\", line 449, in do_execute\n",
      "    res = shell.run_cell(\n",
      "  File \"/Users/mmm/Library/Python/3.12/lib/python/site-packages/ipykernel/zmqshell.py\", line 549, in run_cell\n",
      "    return super().run_cell(*args, **kwargs)\n",
      "  File \"/Users/mmm/Library/Python/3.12/lib/python/site-packages/IPython/core/interactiveshell.py\", line 3077, in run_cell\n",
      "    result = self._run_cell(\n",
      "  File \"/Users/mmm/Library/Python/3.12/lib/python/site-packages/IPython/core/interactiveshell.py\", line 3132, in _run_cell\n",
      "    result = runner(coro)\n",
      "  File \"/Users/mmm/Library/Python/3.12/lib/python/site-packages/IPython/core/async_helpers.py\", line 128, in _pseudo_sync_runner\n",
      "    coro.send(None)\n",
      "  File \"/Users/mmm/Library/Python/3.12/lib/python/site-packages/IPython/core/interactiveshell.py\", line 3336, in run_cell_async\n",
      "    has_raised = await self.run_ast_nodes(code_ast.body, cell_name,\n",
      "  File \"/Users/mmm/Library/Python/3.12/lib/python/site-packages/IPython/core/interactiveshell.py\", line 3519, in run_ast_nodes\n",
      "    if await self.run_code(code, result, async_=asy):\n",
      "  File \"/Users/mmm/Library/Python/3.12/lib/python/site-packages/IPython/core/interactiveshell.py\", line 3579, in run_code\n",
      "    exec(code_obj, self.user_global_ns, self.user_ns)\n",
      "  File \"/var/folders/x5/5lxx9cwn5nb6hm2bg556nkqh0000gn/T/ipykernel_85428/3838098483.py\", line 4, in <module>\n",
      "    from pgmpy.models import BayesianNetwork\n",
      "  File \"/Library/Frameworks/Python.framework/Versions/3.12/lib/python3.12/site-packages/pgmpy/__init__.py\", line 1, in <module>\n",
      "    from .global_vars import config\n",
      "  File \"/Library/Frameworks/Python.framework/Versions/3.12/lib/python3.12/site-packages/pgmpy/global_vars.py\", line 4, in <module>\n",
      "    import torch\n",
      "  File \"/Library/Frameworks/Python.framework/Versions/3.12/lib/python3.12/site-packages/torch/__init__.py\", line 1477, in <module>\n",
      "    from .functional import *  # noqa: F403\n",
      "  File \"/Library/Frameworks/Python.framework/Versions/3.12/lib/python3.12/site-packages/torch/functional.py\", line 9, in <module>\n",
      "    import torch.nn.functional as F\n",
      "  File \"/Library/Frameworks/Python.framework/Versions/3.12/lib/python3.12/site-packages/torch/nn/__init__.py\", line 1, in <module>\n",
      "    from .modules import *  # noqa: F403\n",
      "  File \"/Library/Frameworks/Python.framework/Versions/3.12/lib/python3.12/site-packages/torch/nn/modules/__init__.py\", line 35, in <module>\n",
      "    from .transformer import TransformerEncoder, TransformerDecoder, \\\n",
      "  File \"/Library/Frameworks/Python.framework/Versions/3.12/lib/python3.12/site-packages/torch/nn/modules/transformer.py\", line 20, in <module>\n",
      "    device: torch.device = torch.device(torch._C._get_default_device()),  # torch.device('cpu'),\n",
      "/Library/Frameworks/Python.framework/Versions/3.12/lib/python3.12/site-packages/torch/nn/modules/transformer.py:20: UserWarning: Failed to initialize NumPy: _ARRAY_API not found (Triggered internally at /Users/runner/work/pytorch/pytorch/pytorch/torch/csrc/utils/tensor_numpy.cpp:84.)\n",
      "  device: torch.device = torch.device(torch._C._get_default_device()),  # torch.device('cpu'),\n",
      "/Library/Frameworks/Python.framework/Versions/3.12/lib/python3.12/site-packages/tqdm/auto.py:21: TqdmWarning: IProgress not found. Please update jupyter and ipywidgets. See https://ipywidgets.readthedocs.io/en/stable/user_install.html\n",
      "  from .autonotebook import tqdm as notebook_tqdm\n"
     ]
    }
   ],
   "source": [
    "import numpy as np\n",
    "import pandas as pd\n",
    "\n",
    "from pgmpy.models import BayesianNetwork\n",
    "from pgmpy.factors.discrete import TabularCPD"
   ]
  },
  {
   "cell_type": "code",
   "execution_count": 7,
   "id": "2448a5dc-fe99-4030-a8a4-a8eceb42767c",
   "metadata": {
    "deletable": false,
    "editable": false,
    "nbgrader": {
     "cell_type": "code",
     "checksum": "ea6114e4bd52ad109d993a4b10d56c57",
     "grade": false,
     "grade_id": "cell-3320f861c723c1b1",
     "locked": true,
     "schema_version": 3,
     "solution": false,
     "task": false
    }
   },
   "outputs": [],
   "source": [
    "# Define Bayesian Network structure\n",
    "model = BayesianNetwork([('F', 'Q'), ('F', 'D'), ('Q', 'W'), ('D', 'W')])\n",
    "\n",
    "# Define CPDs\n",
    "cpd_f = TabularCPD(variable='F', variable_card=2, values=[[0.3], [0.7]], state_names={\"F\":[\"low\", \"high\"]})\n",
    "cpd_q = TabularCPD(variable='Q', variable_card=2, values=[[0.5, 0.2], [0.5, 0.8]],\n",
    "                    evidence=['F'], evidence_card=[2], state_names={\"F\":[\"low\", \"high\"], \"Q\": [\"bad\", \"good\"]})\n",
    "cpd_d = TabularCPD(variable='D', variable_card=2, values=[[0.6, 0.3], [0.4, 0.7]],\n",
    "                    evidence=['F'], evidence_card=[2], state_names={\"F\":[\"low\", \"high\"], \"D\": [\"weak\", \"strong\"]})\n",
    "cpd_w = TabularCPD(variable='W', variable_card=2, \n",
    "                    values=[[0.30, 0.5, 0.15, 0.25], [0.70, 0.5, 0.85, 0.75]],\n",
    "                    evidence=['Q', 'D'], evidence_card=[2, 2], state_names={\"Q\":[\"bad\", \"good\"], \"D\": [\"weak\", \"strong\"], \"W\": [\"lose\", \"win\"]})\n",
    "\n",
    "# Add CPDs to model\n",
    "model.add_cpds(cpd_f, cpd_q, cpd_d, cpd_w)\n",
    "\n",
    "# Check Model\n",
    "assert model.check_model()"
   ]
  },
  {
   "cell_type": "code",
   "execution_count": 8,
   "id": "4b70d4c3-3eab-4116-b1ba-2311a78e15f7",
   "metadata": {
    "deletable": false,
    "editable": false,
    "nbgrader": {
     "cell_type": "code",
     "checksum": "71a95f2bbba3f140272466d0d6ddc6ee",
     "grade": false,
     "grade_id": "cell-a39f936e065d7815",
     "locked": true,
     "schema_version": 3,
     "solution": false,
     "task": false
    }
   },
   "outputs": [
    {
     "name": "stdout",
     "output_type": "stream",
     "text": [
      "+---------+-----+\n",
      "| F(low)  | 0.3 |\n",
      "+---------+-----+\n",
      "| F(high) | 0.7 |\n",
      "+---------+-----+\n",
      "+---------+--------+---------+\n",
      "| F       | F(low) | F(high) |\n",
      "+---------+--------+---------+\n",
      "| Q(bad)  | 0.5    | 0.2     |\n",
      "+---------+--------+---------+\n",
      "| Q(good) | 0.5    | 0.8     |\n",
      "+---------+--------+---------+\n",
      "+-----------+--------+---------+\n",
      "| F         | F(low) | F(high) |\n",
      "+-----------+--------+---------+\n",
      "| D(weak)   | 0.6    | 0.3     |\n",
      "+-----------+--------+---------+\n",
      "| D(strong) | 0.4    | 0.7     |\n",
      "+-----------+--------+---------+\n",
      "+---------+---------+-----------+---------+-----------+\n",
      "| Q       | Q(bad)  | Q(bad)    | Q(good) | Q(good)   |\n",
      "+---------+---------+-----------+---------+-----------+\n",
      "| D       | D(weak) | D(strong) | D(weak) | D(strong) |\n",
      "+---------+---------+-----------+---------+-----------+\n",
      "| W(lose) | 0.3     | 0.5       | 0.15    | 0.25      |\n",
      "+---------+---------+-----------+---------+-----------+\n",
      "| W(win)  | 0.7     | 0.5       | 0.85    | 0.75      |\n",
      "+---------+---------+-----------+---------+-----------+\n"
     ]
    }
   ],
   "source": [
    "_ = [print (cpd) for cpd in model.get_cpds()]"
   ]
  },
  {
   "cell_type": "markdown",
   "id": "bbf8b64d-626b-4054-baa1-df63212634b3",
   "metadata": {
    "deletable": false,
    "editable": false,
    "nbgrader": {
     "cell_type": "markdown",
     "checksum": "a0e401d3ff3658b5a0cd2362058a9025",
     "grade": false,
     "grade_id": "cell-ebc749500aa524bb",
     "locked": true,
     "schema_version": 3,
     "solution": false,
     "task": false
    }
   },
   "source": [
    "----\n",
    "Calculate $P(W|F=\\text{high})$"
   ]
  },
  {
   "cell_type": "markdown",
   "id": "e41e96ec-d265-47b5-a79e-ae8f260e861a",
   "metadata": {
    "deletable": false,
    "editable": false,
    "nbgrader": {
     "cell_type": "markdown",
     "checksum": "46ddb29f5e1350789178bf69146e3d91",
     "grade": false,
     "grade_id": "cell-3706f3402af1a853",
     "locked": true,
     "schema_version": 3,
     "solution": false,
     "task": false
    }
   },
   "source": [
    "$$\n",
    "\\begin{align}\n",
    "P(W|F=\\text{high}) & = \\\\\n",
    "& \\propto P(W,F=\\text{high}) \\\\\n",
    "& = \\sum_{q\\in Q,d \\in D} P(F=\\text{high}, Q, D, W) \\\\\n",
    "& = \\sum_{q,d} P(F=\\text{high})P(q|F=\\text{high})P(d|F=\\text{high})P(W|q,d) \n",
    "\\end{align}\n",
    "$$"
   ]
  },
  {
   "cell_type": "code",
   "execution_count": 16,
   "id": "eb05868c-850b-42a8-b0eb-8fc1e693ca5d",
   "metadata": {
    "deletable": false,
    "nbgrader": {
     "cell_type": "code",
     "checksum": "56182cd722ee289af7080e889cd1852c",
     "grade": false,
     "grade_id": "cell-fc5edf8273348150",
     "locked": false,
     "schema_version": 3,
     "solution": true,
     "task": false
    }
   },
   "outputs": [
    {
     "name": "stdout",
     "output_type": "stream",
     "text": [
      "p_win: 0.5152\n",
      "p_lose: 0.18479999999999996\n"
     ]
    },
    {
     "data": {
      "text/plain": [
       "[0.736]"
      ]
     },
     "execution_count": 16,
     "metadata": {},
     "output_type": "execute_result"
    }
   ],
   "source": [
    "P_w = None\n",
    "\n",
    "# Calcuate the probabiity of winning and losing \n",
    "# and put it in a the P_w variable\n",
    "\n",
    "# YOUR CODE HERE\n",
    "# raise NotImplementedError()\n",
    "\n",
    "p_win = \\\n",
    "0.7*0.2*0.3*0.7+\\\n",
    "0.7*0.2*0.7*0.5+\\\n",
    "0.7*0.8*0.3*0.85+\\\n",
    "0.7*0.8*0.7*0.75\n",
    "#p(high)*p(bad,high)*p(weak,high)*p(bad,weak,win)\n",
    "\n",
    "p_lose = \\\n",
    "0.7*0.2*0.3*0.3+\\\n",
    "0.7*0.2*0.7*0.5+\\\n",
    "0.7*0.8*0.3*0.15+\\\n",
    "0.7*0.8*0.7*0.25\n",
    "\n",
    "unnorm = [p_win,p_lose]\n",
    "\n",
    "print(f\"p_win: {p_win}\")\n",
    "print(f\"p_lose: {p_lose}\")\n",
    "\n",
    "P_w = [p_win/(p_win+p_lose)]\n",
    "\n",
    "P_w"
   ]
  },
  {
   "cell_type": "code",
   "execution_count": null,
   "id": "db1aaf40-96bb-4ae5-b113-ad757b72a511",
   "metadata": {
    "deletable": false,
    "editable": false,
    "nbgrader": {
     "cell_type": "code",
     "checksum": "a2a494cf82d0bc4ea1280c4f577b651b",
     "grade": true,
     "grade_id": "cell-aa23a87e0230bc4c",
     "locked": true,
     "points": 9,
     "schema_version": 3,
     "solution": false,
     "task": false
    }
   },
   "outputs": [],
   "source": [
    "# This cell intentionaly left empty\n"
   ]
  },
  {
   "cell_type": "markdown",
   "id": "706e7148-9deb-442a-8041-b2b83a6f0d62",
   "metadata": {
    "deletable": false,
    "editable": false,
    "nbgrader": {
     "cell_type": "markdown",
     "checksum": "0295d42f9ff99d6d6194593b576c3f34",
     "grade": false,
     "grade_id": "cell-c93f77f7c03800fb",
     "locked": true,
     "schema_version": 3,
     "solution": false,
     "task": false
    }
   },
   "source": [
    "----\n",
    "Then we can use Variable Elimination to do the same inference. \n",
    "\n",
    "Variable Elimination is based on the following insight:\n",
    "\n",
    "$$\n",
    "\\begin{align}\n",
    "& \\sum_{q,d} P(F=\\text{high})P(q|F=\\text{high})P(d|F=\\text{high})P(W|q,d) \\\\\n",
    "& = P(F=\\text{high}) \\sum_{q,d} P(q|F=\\text{high})P(d|F=\\text{high})P(W|q,d) \\\\\n",
    "& = P(F=\\text{high}) \\sum_{q} P(q|F=\\text{high})\\sum_{d}P(d|F=\\text{high})P(W|q,d) \\\\\n",
    "\\end{align}\n",
    "$$"
   ]
  },
  {
   "cell_type": "markdown",
   "id": "f4d1c48e-a8d2-42fb-9a91-85e8f7ba4737",
   "metadata": {
    "deletable": false,
    "editable": false,
    "nbgrader": {
     "cell_type": "markdown",
     "checksum": "4d1cdfe026c046a1f79014c1da941762",
     "grade": false,
     "grade_id": "cell-5a61430bf8b1618e",
     "locked": true,
     "schema_version": 3,
     "solution": false,
     "task": false
    }
   },
   "source": [
    "----\n",
    "\n",
    "Now use the `VariabeElimination` functionalityin `pgmpy` to calcuate the same probability.\n"
   ]
  },
  {
   "cell_type": "code",
   "execution_count": null,
   "id": "9d4aa580-d26d-49c0-9941-3d7b847dd654",
   "metadata": {
    "deletable": false,
    "nbgrader": {
     "cell_type": "code",
     "checksum": "242af8e39a979656bab52a58539e4a76",
     "grade": true,
     "grade_id": "cell-38c30eb4cf53462c",
     "locked": false,
     "points": 1,
     "schema_version": 3,
     "solution": true,
     "task": false
    }
   },
   "outputs": [],
   "source": [
    "# YOUR CODE HERE\n",
    "#raise NotImplementedError()\n",
    "\n",
    "from pgmpy.inference import VariableElimination\n",
    "inference = VariableElimination(model)\n",
    "\n",
    "P_w= inference.query(variables=['W'], evidence={'F': 'high'})\n",
    "\n",
    "P_w"
   ]
  },
  {
   "cell_type": "markdown",
   "id": "fa3efc3f-2a92-42a2-947d-dfd0608715ce",
   "metadata": {
    "deletable": false,
    "editable": false,
    "nbgrader": {
     "cell_type": "markdown",
     "checksum": "b141eae245f03450d4bb8818ed8eca19",
     "grade": false,
     "grade_id": "cell-e634ad84d3fcefce",
     "locked": true,
     "schema_version": 3,
     "solution": false,
     "task": false
    }
   },
   "source": [
    "----\n",
    "Here's a more complex example, using the indurance BN:"
   ]
  },
  {
   "cell_type": "code",
   "execution_count": 19,
   "id": "5384925d-5c26-4273-ae6f-be97e7b21e50",
   "metadata": {
    "deletable": false,
    "editable": false,
    "nbgrader": {
     "cell_type": "code",
     "checksum": "375c701ce39ae3857d3e8aa503b5f38f",
     "grade": false,
     "grade_id": "cell-b3130de225e7c8bb",
     "locked": true,
     "schema_version": 3,
     "solution": false,
     "task": false
    }
   },
   "outputs": [
    {
     "data": {
      "text/plain": [
       "defaultdict(int,\n",
       "            {'Accident': np.int64(4),\n",
       "             'Age': np.int64(3),\n",
       "             'Airbag': np.int64(2),\n",
       "             'AntiTheft': np.int64(2),\n",
       "             'Antilock': np.int64(2),\n",
       "             'CarValue': np.int64(5),\n",
       "             'Cushioning': np.int64(4),\n",
       "             'DrivHist': np.int64(3),\n",
       "             'DrivQuality': np.int64(3),\n",
       "             'DrivingSkill': np.int64(3),\n",
       "             'GoodStudent': np.int64(2),\n",
       "             'HomeBase': np.int64(4),\n",
       "             'ILiCost': np.int64(4),\n",
       "             'MakeModel': np.int64(5),\n",
       "             'MedCost': np.int64(4),\n",
       "             'Mileage': np.int64(4),\n",
       "             'OtherCar': np.int64(2),\n",
       "             'OtherCarCost': np.int64(4),\n",
       "             'PropCost': np.int64(4),\n",
       "             'RiskAversion': np.int64(4),\n",
       "             'RuggedAuto': np.int64(3),\n",
       "             'SeniorTrain': np.int64(2),\n",
       "             'SocioEcon': np.int64(4),\n",
       "             'Theft': np.int64(2),\n",
       "             'ThisCarCost': np.int64(4),\n",
       "             'ThisCarDam': np.int64(4),\n",
       "             'VehicleYear': np.int64(2)})"
      ]
     },
     "execution_count": 19,
     "metadata": {},
     "output_type": "execute_result"
    }
   ],
   "source": [
    "from pgmpy.utils import get_example_model\n",
    "\n",
    "model = get_example_model('insurance')\n",
    "model.get_cardinality()"
   ]
  },
  {
   "cell_type": "code",
   "execution_count": 17,
   "id": "5dc4e7b2-5292-4a01-aee7-1394e177a35a",
   "metadata": {
    "deletable": false,
    "editable": false,
    "nbgrader": {
     "cell_type": "code",
     "checksum": "1e6e5883726d0f49f49b5a3daa6ccc37",
     "grade": false,
     "grade_id": "cell-5cd13edc4e63bb76",
     "locked": true,
     "schema_version": 3,
     "solution": false,
     "task": false
    }
   },
   "outputs": [
    {
     "name": "stdout",
     "output_type": "stream",
     "text": [
      "+-----------------+-----+\n",
      "| Age(Adolescent) | 0.2 |\n",
      "+-----------------+-----+\n",
      "| Age(Adult)      | 0.6 |\n",
      "+-----------------+-----+\n",
      "| Age(Senior)     | 0.2 |\n",
      "+-----------------+-----+\n"
     ]
    }
   ],
   "source": [
    "print(model.get_cpds(node=\"Age\"))"
   ]
  },
  {
   "cell_type": "code",
   "execution_count": 18,
   "id": "8e3b83c3-aea9-4fb0-9875-dc3663f6c33d",
   "metadata": {
    "deletable": false,
    "editable": false,
    "nbgrader": {
     "cell_type": "code",
     "checksum": "8c77507bc9bb893208d82c2e4eda3967",
     "grade": false,
     "grade_id": "cell-d75184e11ae56cc9",
     "locked": true,
     "schema_version": 3,
     "solution": false,
     "task": false
    }
   },
   "outputs": [
    {
     "name": "stdout",
     "output_type": "stream",
     "text": [
      "+------------------------+-----+------------------------+\n",
      "| DrivingSkill           | ... | DrivingSkill(Expert)   |\n",
      "+------------------------+-----+------------------------+\n",
      "| RiskAversion           | ... | RiskAversion(Cautious) |\n",
      "+------------------------+-----+------------------------+\n",
      "| DrivQuality(Poor)      | ... | 0.0                    |\n",
      "+------------------------+-----+------------------------+\n",
      "| DrivQuality(Normal)    | ... | 0.0                    |\n",
      "+------------------------+-----+------------------------+\n",
      "| DrivQuality(Excellent) | ... | 1.0                    |\n",
      "+------------------------+-----+------------------------+\n"
     ]
    }
   ],
   "source": [
    "print(model.get_cpds(node=\"DrivQuality\"))"
   ]
  },
  {
   "cell_type": "markdown",
   "id": "ced2f8ce-0749-425c-87e1-9b56cb1fbe69",
   "metadata": {
    "deletable": false,
    "editable": false,
    "nbgrader": {
     "cell_type": "markdown",
     "checksum": "0a864a6eaddc02d62def6d0fc79728d8",
     "grade": false,
     "grade_id": "cell-4f13904ae75c6e1b",
     "locked": true,
     "schema_version": 3,
     "solution": false,
     "task": false
    }
   },
   "source": [
    "Can you calculate the probability of `DrivQuality` given `Age` for both `Adolescent` and `Senior` values of `Age`? "
   ]
  },
  {
   "cell_type": "code",
   "execution_count": null,
   "id": "2d670eac-b11a-4410-96ca-59d07adf960f",
   "metadata": {
    "deletable": false,
    "nbgrader": {
     "cell_type": "code",
     "checksum": "a9994a85b3b4e1ba5365a77f151cccf7",
     "grade": true,
     "grade_id": "cell-d186569a449624ec",
     "locked": false,
     "points": 1,
     "schema_version": 3,
     "solution": true,
     "task": false
    }
   },
   "outputs": [],
   "source": [
    "# YOUR CODE HERE\n",
    "raise NotImplementedError()"
   ]
  }
 ],
 "metadata": {
  "kernelspec": {
   "display_name": "Python 3",
   "language": "python",
   "name": "python3"
  },
  "language_info": {
   "codemirror_mode": {
    "name": "ipython",
    "version": 3
   },
   "file_extension": ".py",
   "mimetype": "text/x-python",
   "name": "python",
   "nbconvert_exporter": "python",
   "pygments_lexer": "ipython3",
   "version": "3.12.5"
  }
 },
 "nbformat": 4,
 "nbformat_minor": 5
}
